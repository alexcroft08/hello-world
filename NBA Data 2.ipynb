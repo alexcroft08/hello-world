{
 "cells": [
  {
   "cell_type": "code",
   "execution_count": 19,
   "metadata": {},
   "outputs": [],
   "source": [
    "import pandas as pd\n",
    "import numpy as np\n",
    "import matplotlib.pyplot as plt\n",
    "%matplotlib inline"
   ]
  },
  {
   "cell_type": "code",
   "execution_count": 20,
   "metadata": {},
   "outputs": [],
   "source": [
    "Stats_df = pd.read_csv('nba_2017_players_with_salary_wiki_twitter.csv')\n"
   ]
  },
  {
   "cell_type": "markdown",
   "metadata": {},
   "source": [
    "Since the invention of basketball more than 120 years ago, The evolution of the game has undergone a lot of changes throughout it's history. From beginning as a game of throwing peaches into a basket with only 13 rules, the game today is arguably the most popular indoor game and one of the top attractions globally in sports. The NBA today has over 100 rules, and the way the game is played has undergone many transformations over the years. One could argue that Michael Jordan set the standard for what characteristics the ideal NBA player would have in the 90s, showing an incredible combination of speed, skill, and physical prowess to dominate the league for years. The game today has changed since then, with teams prioritizing strong 3 point shooting skill higher than ever before. League wide, the NBA has hired full time data analytics departments to help the front office make decisions on which players they should target in free agency, and help the staff coach their players. Some people argue that the introduction of data analytics into the NBA is a main cause of this change. But does the data show that on average, 3 point shooting leads to more points than 2 point shooting? Is 3 point shooting correlated to a player's on-court offensive real plus-minus score?  Lastly, we will compare the 3 point shooting of two different positions to see if we can conclude meaningful differences in their distributions."
   ]
  },
  {
   "cell_type": "markdown",
   "metadata": {},
   "source": [
    "Let's take a look at our data set."
   ]
  },
  {
   "cell_type": "code",
   "execution_count": 21,
   "metadata": {},
   "outputs": [
    {
     "data": {
      "text/html": [
       "<div>\n",
       "<style scoped>\n",
       "    .dataframe tbody tr th:only-of-type {\n",
       "        vertical-align: middle;\n",
       "    }\n",
       "\n",
       "    .dataframe tbody tr th {\n",
       "        vertical-align: top;\n",
       "    }\n",
       "\n",
       "    .dataframe thead th {\n",
       "        text-align: right;\n",
       "    }\n",
       "</style>\n",
       "<table border=\"1\" class=\"dataframe\">\n",
       "  <thead>\n",
       "    <tr style=\"text-align: right;\">\n",
       "      <th></th>\n",
       "      <th>Unnamed: 0</th>\n",
       "      <th>Rk</th>\n",
       "      <th>PLAYER</th>\n",
       "      <th>POSITION</th>\n",
       "      <th>AGE</th>\n",
       "      <th>MP</th>\n",
       "      <th>FG</th>\n",
       "      <th>FGA</th>\n",
       "      <th>FG%</th>\n",
       "      <th>3P</th>\n",
       "      <th>...</th>\n",
       "      <th>DRPM</th>\n",
       "      <th>RPM</th>\n",
       "      <th>WINS_RPM</th>\n",
       "      <th>PIE</th>\n",
       "      <th>PACE</th>\n",
       "      <th>W</th>\n",
       "      <th>SALARY_MILLIONS</th>\n",
       "      <th>PAGEVIEWS</th>\n",
       "      <th>TWITTER_FAVORITE_COUNT</th>\n",
       "      <th>TWITTER_RETWEET_COUNT</th>\n",
       "    </tr>\n",
       "  </thead>\n",
       "  <tbody>\n",
       "    <tr>\n",
       "      <th>0</th>\n",
       "      <td>0</td>\n",
       "      <td>1</td>\n",
       "      <td>Russell Westbrook</td>\n",
       "      <td>PG</td>\n",
       "      <td>28</td>\n",
       "      <td>34.6</td>\n",
       "      <td>10.2</td>\n",
       "      <td>24.0</td>\n",
       "      <td>0.425</td>\n",
       "      <td>2.5</td>\n",
       "      <td>...</td>\n",
       "      <td>-0.47</td>\n",
       "      <td>6.27</td>\n",
       "      <td>17.34</td>\n",
       "      <td>23.0</td>\n",
       "      <td>102.31</td>\n",
       "      <td>46</td>\n",
       "      <td>26.50</td>\n",
       "      <td>4279.0</td>\n",
       "      <td>2130.5</td>\n",
       "      <td>559.0</td>\n",
       "    </tr>\n",
       "    <tr>\n",
       "      <th>1</th>\n",
       "      <td>1</td>\n",
       "      <td>2</td>\n",
       "      <td>James Harden</td>\n",
       "      <td>PG</td>\n",
       "      <td>27</td>\n",
       "      <td>36.4</td>\n",
       "      <td>8.3</td>\n",
       "      <td>18.9</td>\n",
       "      <td>0.440</td>\n",
       "      <td>3.2</td>\n",
       "      <td>...</td>\n",
       "      <td>-1.57</td>\n",
       "      <td>4.81</td>\n",
       "      <td>15.54</td>\n",
       "      <td>19.0</td>\n",
       "      <td>102.98</td>\n",
       "      <td>54</td>\n",
       "      <td>26.50</td>\n",
       "      <td>3279.0</td>\n",
       "      <td>969.0</td>\n",
       "      <td>321.5</td>\n",
       "    </tr>\n",
       "    <tr>\n",
       "      <th>2</th>\n",
       "      <td>2</td>\n",
       "      <td>4</td>\n",
       "      <td>Anthony Davis</td>\n",
       "      <td>C</td>\n",
       "      <td>23</td>\n",
       "      <td>36.1</td>\n",
       "      <td>10.3</td>\n",
       "      <td>20.3</td>\n",
       "      <td>0.505</td>\n",
       "      <td>0.5</td>\n",
       "      <td>...</td>\n",
       "      <td>3.90</td>\n",
       "      <td>4.35</td>\n",
       "      <td>12.81</td>\n",
       "      <td>19.2</td>\n",
       "      <td>100.19</td>\n",
       "      <td>31</td>\n",
       "      <td>22.12</td>\n",
       "      <td>82.5</td>\n",
       "      <td>368.0</td>\n",
       "      <td>104.0</td>\n",
       "    </tr>\n",
       "    <tr>\n",
       "      <th>3</th>\n",
       "      <td>3</td>\n",
       "      <td>6</td>\n",
       "      <td>DeMarcus Cousins</td>\n",
       "      <td>C</td>\n",
       "      <td>26</td>\n",
       "      <td>34.2</td>\n",
       "      <td>9.0</td>\n",
       "      <td>19.9</td>\n",
       "      <td>0.452</td>\n",
       "      <td>1.8</td>\n",
       "      <td>...</td>\n",
       "      <td>0.64</td>\n",
       "      <td>4.20</td>\n",
       "      <td>11.26</td>\n",
       "      <td>17.8</td>\n",
       "      <td>97.11</td>\n",
       "      <td>30</td>\n",
       "      <td>16.96</td>\n",
       "      <td>1625.5</td>\n",
       "      <td>102.0</td>\n",
       "      <td>91.5</td>\n",
       "    </tr>\n",
       "    <tr>\n",
       "      <th>4</th>\n",
       "      <td>4</td>\n",
       "      <td>7</td>\n",
       "      <td>Damian Lillard</td>\n",
       "      <td>PG</td>\n",
       "      <td>26</td>\n",
       "      <td>35.9</td>\n",
       "      <td>8.8</td>\n",
       "      <td>19.8</td>\n",
       "      <td>0.444</td>\n",
       "      <td>2.9</td>\n",
       "      <td>...</td>\n",
       "      <td>-1.49</td>\n",
       "      <td>3.14</td>\n",
       "      <td>10.72</td>\n",
       "      <td>15.9</td>\n",
       "      <td>99.68</td>\n",
       "      <td>38</td>\n",
       "      <td>24.33</td>\n",
       "      <td>1830.5</td>\n",
       "      <td>186.5</td>\n",
       "      <td>43.0</td>\n",
       "    </tr>\n",
       "  </tbody>\n",
       "</table>\n",
       "<p>5 rows × 42 columns</p>\n",
       "</div>"
      ],
      "text/plain": [
       "   Unnamed: 0  Rk             PLAYER POSITION  AGE    MP    FG   FGA    FG%  \\\n",
       "0           0   1  Russell Westbrook       PG   28  34.6  10.2  24.0  0.425   \n",
       "1           1   2       James Harden       PG   27  36.4   8.3  18.9  0.440   \n",
       "2           2   4      Anthony Davis        C   23  36.1  10.3  20.3  0.505   \n",
       "3           3   6   DeMarcus Cousins        C   26  34.2   9.0  19.9  0.452   \n",
       "4           4   7     Damian Lillard       PG   26  35.9   8.8  19.8  0.444   \n",
       "\n",
       "    3P          ...            DRPM   RPM  WINS_RPM   PIE    PACE   W  \\\n",
       "0  2.5          ...           -0.47  6.27     17.34  23.0  102.31  46   \n",
       "1  3.2          ...           -1.57  4.81     15.54  19.0  102.98  54   \n",
       "2  0.5          ...            3.90  4.35     12.81  19.2  100.19  31   \n",
       "3  1.8          ...            0.64  4.20     11.26  17.8   97.11  30   \n",
       "4  2.9          ...           -1.49  3.14     10.72  15.9   99.68  38   \n",
       "\n",
       "   SALARY_MILLIONS  PAGEVIEWS  TWITTER_FAVORITE_COUNT  TWITTER_RETWEET_COUNT  \n",
       "0            26.50     4279.0                  2130.5                  559.0  \n",
       "1            26.50     3279.0                   969.0                  321.5  \n",
       "2            22.12       82.5                   368.0                  104.0  \n",
       "3            16.96     1625.5                   102.0                   91.5  \n",
       "4            24.33     1830.5                   186.5                   43.0  \n",
       "\n",
       "[5 rows x 42 columns]"
      ]
     },
     "execution_count": 21,
     "metadata": {},
     "output_type": "execute_result"
    }
   ],
   "source": [
    "Stats_df.head()"
   ]
  },
  {
   "cell_type": "markdown",
   "metadata": {},
   "source": [
    "Let's take a look at the distributions for 3 point and 2 point shooting across the NBA among players that attempt at least 1 FG per game."
   ]
  },
  {
   "cell_type": "code",
   "execution_count": 22,
   "metadata": {},
   "outputs": [
    {
     "data": {
      "text/plain": [
       "Text(0.5,0,'%')"
      ]
     },
     "execution_count": 22,
     "metadata": {},
     "output_type": "execute_result"
    },
    {
     "data": {
      "image/png": "[encoded data removed]",
      "text/plain": [
       "<matplotlib.figure.Figure at 0x11c644e48>"
      ]
     },
     "metadata": {},
     "output_type": "display_data"
    }
   ],
   "source": [
    "NewStats_df = Stats_df[Stats_df['3PA']>=1]\n",
    "NewStats_df = NewStats_df[NewStats_df['2PA']>=1]\n",
    "plt.figure(figsize=(15,6))\n",
    "plt.subplot(1,2,1)\n",
    "plt.hist(NewStats_df['3P%'])\n",
    "plt.title('3P% Distribution')\n",
    "plt.ylabel('Players')\n",
    "plt.xlabel('%')\n",
    "\n",
    "plt.subplot(1,2,2)\n",
    "plt.hist(NewStats_df['2P%'])\n",
    "plt.title('2P% Distribution')\n",
    "plt.ylabel('Players')\n",
    "plt.xlabel('%')\n"
   ]
  },
  {
   "cell_type": "markdown",
   "metadata": {},
   "source": [
    "Let's perform some basic statistical analysis on the data to establish central tendency."
   ]
  },
  {
   "cell_type": "code",
   "execution_count": 23,
   "metadata": {},
   "outputs": [
    {
     "name": "stdout",
     "output_type": "stream",
     "text": [
      "The average Field Goal Percentage of 3 Pointers in the NBA is 0.34533149171270705.\n",
      "The median Field Goal Percentage of 3 Pointers in the NBA is 0.354.\n",
      "The average Field Goal Percentage of 2 Pointers in the NBA is 0.47911602209944726.\n",
      "The median Field Goal Percentage of 2 Pointers in the NBA is 0.481.\n",
      "The average 2 point shot results in 0.9582320441988945 points\n",
      "The average 3 point shot results in 1.0359944751381212 points\n"
     ]
    }
   ],
   "source": [
    "Three_mean = sum(NewStats_df['3P%']) / NewStats_df['3P%'].count()\n",
    "Three_median = NewStats_df['3P%'].median()\n",
    "Two_mean = sum(NewStats_df['2P%']) / NewStats_df['2P%'].count()\n",
    "Two_median = NewStats_df['2P%'].median()\n",
    "print(\"The average Field Goal Percentage of 3 Pointers in the NBA is {}.\".format(Three_mean))\n",
    "print(\"The median Field Goal Percentage of 3 Pointers in the NBA is {}.\".format(Three_median))\n",
    "print(\"The average Field Goal Percentage of 2 Pointers in the NBA is {}.\".format(Two_mean))\n",
    "print(\"The median Field Goal Percentage of 2 Pointers in the NBA is {}.\".format(Two_median))\n",
    "\n",
    "#Multiplying by amount of points to get the average result of a shot attempt\n",
    "Two_Score = Two_mean * 2\n",
    "Three_Score = Three_mean * 3\n",
    "\n",
    "print (\"The average 2 point shot results in {} points\".format(Two_Score))\n",
    "print (\"The average 3 point shot results in {} points\".format(Three_Score))\n"
   ]
  },
  {
   "cell_type": "markdown",
   "metadata": {},
   "source": [
    "It's interesting to see that for players that attempt at least 1 3 pointer per game, on average a 3 point shot attempt results in slightly more points than a 2 point shot attempt. This data supports the NBA's trend towards prioritizing more 3 point shooting in recent years."
   ]
  },
  {
   "cell_type": "markdown",
   "metadata": {},
   "source": [
    "For both 3p and 2p shooting, the median is slightly higher than the mean, and the histogram shows us that there may be a few players that are dragging down the mean acting as lower bound outliers. Let's plot a box plot to take a further look."
   ]
  },
  {
   "cell_type": "code",
   "execution_count": 24,
   "metadata": {},
   "outputs": [
    {
     "data": {
      "text/plain": [
       "Text(0,0.5,'2P%')"
      ]
     },
     "execution_count": 24,
     "metadata": {},
     "output_type": "execute_result"
    },
    {
     "data": {
      "image/png": "[encoded data removed]",
      "text/plain": [
       "<matplotlib.figure.Figure at 0x11c6445c0>"
      ]
     },
     "metadata": {},
     "output_type": "display_data"
    }
   ],
   "source": [
    "plt.figure(figsize =(15,6))\n",
    "plt.subplot(1,2,1)\n",
    "plt.boxplot(NewStats_df['3P%'])\n",
    "plt.title('3P% Distribution')\n",
    "plt.ylabel('3P%')\n",
    "\n",
    "plt.subplot(1,2,2)\n",
    "plt.boxplot(NewStats_df['2P%'])\n",
    "plt.title('2P% Distribution')\n",
    "plt.ylabel('2P%')"
   ]
  },
  {
   "cell_type": "markdown",
   "metadata": {},
   "source": [
    "The box plots confirm there are some data points acting as lower bound outliers dragging down the mean in the distribution. This is especially the case in 2 point shooting, with a few data points below 0.3, a sizeable distance below the mean and median of 0.479 and 0.481 respectively."
   ]
  },
  {
   "cell_type": "markdown",
   "metadata": {},
   "source": [
    "Now let's take a look to see if there's any correlation between 3 point shooting percentage and RPM (Real plus-minus). First, let's define what real plus minus rating is. RPM is a measure of the effect a player has on the overall score of the game when he is on the floor. For example - If your RPM is +1, then throughout the season when you are on the court, your team has scored 1 more point than they have allowed. \n",
    "\n",
    "ORPM - A player's Real plus-minus on the offensive end of the court.\n",
    "\n",
    "DRPM - A player's Real plus-minus on the defensive end of the court.\n",
    "\n",
    "Because a player is only shooting on the offensive end of the floor, it makes sense to use the ORPM score when analyzing correlation with 3P%. "
   ]
  },
  {
   "cell_type": "code",
   "execution_count": 25,
   "metadata": {},
   "outputs": [
    {
     "data": {
      "image/png": "[encoded data removed]",
      "text/plain": [
       "<matplotlib.figure.Figure at 0x11c8d7908>"
      ]
     },
     "metadata": {},
     "output_type": "display_data"
    }
   ],
   "source": [
    "plt.figure(figsize=(10,6))\n",
    "\n",
    "x = NewStats_df['ORPM']\n",
    "y = NewStats_df['3P%']\n",
    "\n",
    "p1 = np.polyfit(x,y,1)\n",
    "plt.scatter(x,y)\n",
    "plt.plot(x,np.polyval(p1,x),'r-')\n",
    "plt.title('Scatterplot: ORPM vs 3P%')\n",
    "plt.ylabel('3P%')\n",
    "plt.xlabel('Offensive RPM (ORPM)')\n",
    "plt.show()"
   ]
  },
  {
   "cell_type": "markdown",
   "metadata": {},
   "source": [
    "This scatterplot shows us the relationship between 3 point shooting and a player's Offensive Real Plus Minus rating. You can see that there are only a handful of data points with a positive ORPM and a 3P% lower than 0.30, and the line of best fit curve shows a linear relationship indicating that if a player has a higher 3P% they are more likely to have a higher ORPM score. As a result, you can understand why teams are much more interested in a player if they can achieve a strong 3P% as it is more likely for them to improve the team overall when they are on the court."
   ]
  },
  {
   "cell_type": "markdown",
   "metadata": {},
   "source": [
    "Lets take a look at how 3P% breaks down per position in the NBA."
   ]
  },
  {
   "cell_type": "code",
   "execution_count": 26,
   "metadata": {},
   "outputs": [
    {
     "name": "stdout",
     "output_type": "stream",
     "text": [
      "The average 3P% for Point Guards is 0.3551777777777777\n",
      "The average 3P% for Shooting Guards is 0.36056818181818173\n",
      "The average 3P% for Small Forwards is 0.3330232558139534\n",
      "The average 3P% for Power Forwards is 0.31993939393939386\n",
      "The average 3P% for Centers is 0.36118749999999994\n"
     ]
    }
   ],
   "source": [
    "PG_3p = NewStats_df.loc[NewStats_df['POSITION'] == 'PG', '3P%']\n",
    "SG_3p = NewStats_df.loc[NewStats_df['POSITION'] == 'SG', '3P%']\n",
    "SF_3p = NewStats_df.loc[NewStats_df['POSITION'] == 'SF', '3P%']\n",
    "PF_3p = NewStats_df.loc[NewStats_df['POSITION'] == 'PF', '3P%']\n",
    "C_3p = NewStats_df.loc[NewStats_df['POSITION'] == 'C', '3P%']\n",
    "PG_mean = sum(PG_3p) / PG_3p.count()\n",
    "SG_mean = sum(SG_3p) / SG_3p.count()\n",
    "SF_mean = sum(SF_3p) / SF_3p.count()\n",
    "PF_mean = sum(PF_3p) / PF_3p.count()\n",
    "C_mean = sum(C_3p) / C_3p.count()\n",
    "print('The average 3P% for Point Guards is {}'.format(PG_mean))\n",
    "print('The average 3P% for Shooting Guards is {}'.format(SG_mean))\n",
    "print('The average 3P% for Small Forwards is {}'.format(SF_mean))\n",
    "print('The average 3P% for Power Forwards is {}'.format(PF_mean))\n",
    "print('The average 3P% for Centers is {}'.format(C_mean))"
   ]
  },
  {
   "cell_type": "markdown",
   "metadata": {},
   "source": [
    "Let's take a look at the distribution of Small Forwards and Power Forwards 3P shooting percentage."
   ]
  },
  {
   "cell_type": "code",
   "execution_count": 29,
   "metadata": {},
   "outputs": [
    {
     "data": {
      "image/png": "[encoded data removed]",
      "text/plain": [
       "<matplotlib.figure.Figure at 0x11c92b4e0>"
      ]
     },
     "metadata": {},
     "output_type": "display_data"
    }
   ],
   "source": [
    "plt.hist(SF_3p, alpha=0.5, label='Small Forwards 3P%') \n",
    "plt.hist(PF_3p, alpha=0.5, label='Power Forwards 3P%') \n",
    "plt.legend(loc='upper right') \n",
    "plt.show()"
   ]
  },
  {
   "cell_type": "markdown",
   "metadata": {},
   "source": [
    "When analyzing this visual, it appears that Small Forwards have a higher 3P shooting percentage than Power forwards. Let's run a t-test to test that hypothesis."
   ]
  },
  {
   "cell_type": "code",
   "execution_count": 27,
   "metadata": {},
   "outputs": [
    {
     "name": "stdout",
     "output_type": "stream",
     "text": [
      "0.9758402416922731\n"
     ]
    }
   ],
   "source": [
    "\n",
    "#Calculcate the mean difference\n",
    "diff = SF_mean - PF_mean\n",
    "#Create an array of sample size and standard deviation\n",
    "size = np.array([len(SF_3p),len(PF_3p)])\n",
    "sd = np.array([SF_3p.std(),PF_3p.std()])\n",
    "\n",
    "#Standard Error calculation \n",
    "diff_se = (sum(sd**2/size))**.5\n",
    "\n",
    "print(diff/diff_se)"
   ]
  },
  {
   "cell_type": "code",
   "execution_count": 28,
   "metadata": {},
   "outputs": [
    {
     "name": "stdout",
     "output_type": "stream",
     "text": [
      "Ttest_indResult(statistic=-0.9758402416922775, pvalue=0.3325952877920112)\n"
     ]
    }
   ],
   "source": [
    "from scipy.stats import ttest_ind\n",
    "print(ttest_ind(PF_3p, SF_3p, equal_var=False))"
   ]
  },
  {
   "cell_type": "markdown",
   "metadata": {},
   "source": [
    "We have a very high p-value of 0.33 which is larger than the alpha value of 0.05 meaning that we cannot conclude a meaningful difference exists between the two distributions. "
   ]
  },
  {
   "cell_type": "markdown",
   "metadata": {},
   "source": [
    "Potential bias in the above analysis is that we are only analyzing players that take at least 1 3 point shot per game. In the NBA, Power Forwards generally play closer to the basket and as a result take less 3 pointers, meaning there could be a significant difference in the sample sizes chosen. it is likely that there are more players in the Small Forward data set, and this could be throwing off our analysis."
   ]
  },
  {
   "cell_type": "markdown",
   "metadata": {},
   "source": [
    "In terms of future analysis, looking at the evolution of 3 point shooting in the NBA would be very interesting by comparing data sets from different years. It would be interesting to see if there is any correlation between the volume of 3 pointers a team is shooting and their RPM and overall wins spanning several seasons. In addition, it would be interesting to see how 3 point shooting has evolved over several years by position in the NBA. I would hypothesize that as you get closer to present day, the Power Forward and Center positions would see the biggest increase in volume and % from 3 point range."
   ]
  },
  {
   "cell_type": "code",
   "execution_count": null,
   "metadata": {},
   "outputs": [],
   "source": []
  }
 ],
 "metadata": {
  "kernelspec": {
   "display_name": "Python 3",
   "language": "python",
   "name": "python3"
  },
  "language_info": {
   "codemirror_mode": {
    "name": "ipython",
    "version": 3
   },
   "file_extension": ".py",
   "mimetype": "text/x-python",
   "name": "python",
   "nbconvert_exporter": "python",
   "pygments_lexer": "ipython3",
   "version": "3.6.4"
  }
 },
 "nbformat": 4,
 "nbformat_minor": 2
}
